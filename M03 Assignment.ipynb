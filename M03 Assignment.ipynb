{
  "cells": [
    {
      "cell_type": "code",
      "execution_count": 1,
      "metadata": {
        "trusted": true
      },
      "outputs": [
        {
          "name": "stdout",
          "output_type": "stream",
          "text": [
            "['mozzarella', 'cinderella', 'salmonella']\n"
          ]
        }
      ],
      "source": [
        "##7.4\n",
        "##Create list\n",
        "things = [\"mozzarella\", \"cinderella\", \"salmonella\"]\n",
        "\n",
        "# Print list\n",
        "print(things)"
      ]
    },
    {
      "cell_type": "code",
      "execution_count": null,
      "metadata": {},
      "outputs": [],
      "source": [
        "##7.5\n",
        "##Create list\n",
        "things = [\"mozzarella\", \"cinderella\", \"salmonella\"]\n",
        "\n",
        "##Capitalize element refering to \"a person\"\n",
        "things[1] = things[1].capitalize()\n",
        "\n",
        "##Print list\n",
        "print(things)"
      ]
    },
    {
      "cell_type": "code",
      "execution_count": 3,
      "metadata": {
        "trusted": true
      },
      "outputs": [
        {
          "name": "stdout",
          "output_type": "stream",
          "text": [
            "['Mozzarella', 'cinderella', 'salmonella']\n"
          ]
        }
      ],
      "source": [
        "##7.6\n",
        "##Create list\n",
        "things = [\"mozzarella\", \"cinderella\", \"salmonella\"]\n",
        "\n",
        "##Capitalize element refering to \"cheese\"\n",
        "things[0] = things[0].capitalize()\n",
        "\n",
        "##Print list\n",
        "print(things)"
      ]
    },
    {
      "cell_type": "code",
      "execution_count": 4,
      "metadata": {
        "trusted": true
      },
      "outputs": [
        {
          "name": "stdout",
          "output_type": "stream",
          "text": [
            "['mozzarella', 'cinderella']\n"
          ]
        }
      ],
      "source": [
        "##7.7\n",
        "##Create list\n",
        "things = [\"mozzarella\", \"cinderella\", \"salmonella\"]\n",
        "\n",
        "##Delete element refering to disease\n",
        "things.remove(\"salmonella\")\n",
        "\n",
        "##Print list\n",
        "print(things)"
      ]
    },
    {
      "cell_type": "code",
      "execution_count": 5,
      "metadata": {
        "trusted": true
      },
      "outputs": [
        {
          "name": "stdout",
          "output_type": "stream",
          "text": [
            "['Harry', 'Ron', 'Hermione']\n"
          ]
        }
      ],
      "source": [
        "##9.1\n",
        "#3Define the function called good\n",
        "def good():\n",
        "##Return a list\n",
        "    return ['Harry', 'Ron', 'Hermione']\n",
        "\n",
        "##Call and print the function\n",
        "print(good())\n"
      ]
    },
    {
      "cell_type": "code",
      "execution_count": 6,
      "metadata": {
        "trusted": true
      },
      "outputs": [
        {
          "name": "stdout",
          "output_type": "stream",
          "text": [
            "5\n"
          ]
        }
      ],
      "source": [
        "##9.2\n",
        "##Define generator function called get_odds\n",
        "def get_odds():\n",
        "##Loop through numbers in range 0-10\n",
        "    for number in range(10):\n",
        "##If number is odd, yield it\n",
        "        if number % 2 == 1:\n",
        "            yield number\n",
        "\n",
        "##Use for loop to find and print 3rd value\n",
        "##Set counter\n",
        "count = 0\n",
        "##Loop generator till 3rd odd\n",
        "for value in get_odds():\n",
        "#incremenent counter\n",
        "    count += 1\n",
        "##When counter is 3, print value and break loop\n",
        "    if count == 3:\n",
        "        print(value)\n",
        "        break"
      ]
    },
    {
      "cell_type": "code",
      "execution_count": null,
      "metadata": {},
      "outputs": [],
      "source": []
    }
  ],
  "metadata": {
    "kernelspec": {
      "display_name": "Python (Pyodide)",
      "language": "python",
      "name": "python"
    },
    "language_info": {
      "codemirror_mode": {
        "name": "python",
        "version": 3
      },
      "file_extension": ".py",
      "mimetype": "text/x-python",
      "name": "python",
      "nbconvert_exporter": "python",
      "pygments_lexer": "ipython3",
      "version": "3.8"
    }
  },
  "nbformat": 4,
  "nbformat_minor": 4
}
